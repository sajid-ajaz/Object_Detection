{
  "nbformat": 4,
  "nbformat_minor": 0,
  "metadata": {
    "accelerator": "GPU",
    "colab": {
      "name": "Sporty Guru_Model.ipynb",
      "provenance": [],
      "collapsed_sections": [],
      "toc_visible": true,
      "authorship_tag": "ABX9TyOLdRoKT2V1bZII7JLl+prL",
      "include_colab_link": true
    },
    "kernelspec": {
      "display_name": "Python 3",
      "name": "python3"
    }
  },
  "cells": [
    {
      "cell_type": "markdown",
      "metadata": {
        "id": "view-in-github",
        "colab_type": "text"
      },
      "source": [
        "<a href=\"https://colab.research.google.com/github/sajid-ajaz/Object_Detection/blob/main/Sporty_Guru_Model.ipynb\" target=\"_parent\"><img src=\"https://colab.research.google.com/assets/colab-badge.svg\" alt=\"Open In Colab\"/></a>"
      ]
    },
    {
      "cell_type": "markdown",
      "metadata": {
        "id": "bAB10GBNiQ6s"
      },
      "source": [
        "Let's build our first model, a very simple neural network."
      ]
    },
    {
      "cell_type": "code",
      "metadata": {
        "id": "Q8FwNj6Biq3E"
      },
      "source": [
        "#First we have to import necessary library.\n",
        "import numpy as np \n",
        "import tensorflow as tf\n",
        "from matplotlib import pyplot as plt\n",
        "from keras.preprocessing.image import ImageDataGenerator\n",
        "from keras.utils.np_utils import to_categorical \n",
        "from sklearn.model_selection import train_test_split\n",
        "import itertools\n",
        "%matplotlib inline"
      ],
      "execution_count": 1,
      "outputs": []
    },
    {
      "cell_type": "code",
      "metadata": {
        "id": "4tAjNCqct9ec",
        "colab": {
          "base_uri": "https://localhost:8080/"
        },
        "outputId": "d47c2035-21fb-4604-b458-9fd9591d1cb3"
      },
      "source": [
        "#download the data.\n",
        "(x_train, y_train), (x_test, y_test) = tf.keras.datasets.cifar10.load_data()"
      ],
      "execution_count": 2,
      "outputs": [
        {
          "output_type": "stream",
          "text": [
            "Downloading data from https://www.cs.toronto.edu/~kriz/cifar-10-python.tar.gz\n",
            "170500096/170498071 [==============================] - 4s 0us/step\n"
          ],
          "name": "stdout"
        }
      ]
    },
    {
      "cell_type": "code",
      "metadata": {
        "id": "8cB_obA3un8Q"
      },
      "source": [
        "# normalize the data\n",
        "x_train=x_train/255.0\n",
        "x_test=x_test/255.0"
      ],
      "execution_count": 3,
      "outputs": []
    },
    {
      "cell_type": "code",
      "metadata": {
        "id": "-Oc1W7HvRA7n"
      },
      "source": [
        "#change label data to catogirical data.\n",
        "y_train = to_categorical(y_train, num_classes = 10)\n",
        "y_test=to_categorical(y_test,num_classes=10)"
      ],
      "execution_count": 4,
      "outputs": []
    },
    {
      "cell_type": "code",
      "metadata": {
        "id": "1uonkvg97pHN"
      },
      "source": [
        "random_seed=(2)"
      ],
      "execution_count": 5,
      "outputs": []
    },
    {
      "cell_type": "code",
      "metadata": {
        "id": "xnIc79W_RBCX"
      },
      "source": [
        "x_train, x_val, y_train, y_val = train_test_split(x_train, y_train, test_size = 0.2, \n",
        "                                                  random_state=random_seed)"
      ],
      "execution_count": 6,
      "outputs": []
    },
    {
      "cell_type": "code",
      "metadata": {
        "colab": {
          "base_uri": "https://localhost:8080/"
        },
        "id": "TvhEu0xniyRe",
        "outputId": "2fb3b972-418a-4a34-9b68-730384ee8e79"
      },
      "source": [
        "#Our first model without any hidden layer. \n",
        "NetA = tf.keras.models.Sequential([\n",
        "            tf.keras.layers.Flatten(input_shape=(32,32,3)),\n",
        "            tf.keras.layers.Dense(10,activation=tf.nn.softmax)\n",
        "    ])\n",
        "NetA.summary()"
      ],
      "execution_count": 7,
      "outputs": [
        {
          "output_type": "stream",
          "text": [
            "Model: \"sequential\"\n",
            "_________________________________________________________________\n",
            "Layer (type)                 Output Shape              Param #   \n",
            "=================================================================\n",
            "flatten (Flatten)            (None, 3072)              0         \n",
            "_________________________________________________________________\n",
            "dense (Dense)                (None, 10)                30730     \n",
            "=================================================================\n",
            "Total params: 30,730\n",
            "Trainable params: 30,730\n",
            "Non-trainable params: 0\n",
            "_________________________________________________________________\n"
          ],
          "name": "stdout"
        }
      ]
    },
    {
      "cell_type": "code",
      "metadata": {
        "id": "UyvIt1s1SGLV"
      },
      "source": [
        "epochs = 50\n",
        "batch_size = 20"
      ],
      "execution_count": 8,
      "outputs": []
    },
    {
      "cell_type": "code",
      "metadata": {
        "id": "TG_JbELwSGEj"
      },
      "source": [
        "#compiling the model. \n",
        "NetA.compile(optimizer = 'adam' , loss = \"categorical_crossentropy\", metrics=[\"accuracy\"])"
      ],
      "execution_count": 9,
      "outputs": []
    },
    {
      "cell_type": "code",
      "metadata": {
        "colab": {
          "base_uri": "https://localhost:8080/"
        },
        "id": "cNC7WsE7_xKw",
        "outputId": "c52fbbe9-d705-4c01-f2f2-8c6e33b040ca"
      },
      "source": [
        "#Traing the model.\n",
        "history=NetA.fit(x_train,y_train, batch_size=batch_size, epochs=epochs, \n",
        "                  validation_data=(x_val,y_val),verbose=1)"
      ],
      "execution_count": 10,
      "outputs": [
        {
          "output_type": "stream",
          "text": [
            "Epoch 1/50\n",
            "2000/2000 [==============================] - 7s 2ms/step - loss: 2.0278 - accuracy: 0.3037 - val_loss: 1.9702 - val_accuracy: 0.3352\n",
            "Epoch 2/50\n",
            "2000/2000 [==============================] - 4s 2ms/step - loss: 1.9239 - accuracy: 0.3445 - val_loss: 2.1118 - val_accuracy: 0.3247\n",
            "Epoch 3/50\n",
            "2000/2000 [==============================] - 4s 2ms/step - loss: 1.8961 - accuracy: 0.3527 - val_loss: 1.8731 - val_accuracy: 0.3625\n",
            "Epoch 4/50\n",
            "2000/2000 [==============================] - 4s 2ms/step - loss: 1.8871 - accuracy: 0.3581 - val_loss: 1.8676 - val_accuracy: 0.3693\n",
            "Epoch 5/50\n",
            "2000/2000 [==============================] - 4s 2ms/step - loss: 1.8822 - accuracy: 0.3635 - val_loss: 1.8762 - val_accuracy: 0.3688\n",
            "Epoch 6/50\n",
            "2000/2000 [==============================] - 4s 2ms/step - loss: 1.8722 - accuracy: 0.3688 - val_loss: 2.1284 - val_accuracy: 0.3231\n",
            "Epoch 7/50\n",
            "2000/2000 [==============================] - 4s 2ms/step - loss: 1.8622 - accuracy: 0.3726 - val_loss: 1.8548 - val_accuracy: 0.3696\n",
            "Epoch 8/50\n",
            "2000/2000 [==============================] - 4s 2ms/step - loss: 1.8624 - accuracy: 0.3730 - val_loss: 2.0137 - val_accuracy: 0.3493\n",
            "Epoch 9/50\n",
            "2000/2000 [==============================] - 4s 2ms/step - loss: 1.8493 - accuracy: 0.3772 - val_loss: 2.0094 - val_accuracy: 0.3407\n",
            "Epoch 10/50\n",
            "2000/2000 [==============================] - 4s 2ms/step - loss: 1.8357 - accuracy: 0.3797 - val_loss: 1.8720 - val_accuracy: 0.3537\n",
            "Epoch 11/50\n",
            "2000/2000 [==============================] - 4s 2ms/step - loss: 1.8326 - accuracy: 0.3806 - val_loss: 1.9269 - val_accuracy: 0.3446\n",
            "Epoch 12/50\n",
            "2000/2000 [==============================] - 4s 2ms/step - loss: 1.8379 - accuracy: 0.3805 - val_loss: 1.9732 - val_accuracy: 0.3474\n",
            "Epoch 13/50\n",
            "2000/2000 [==============================] - 4s 2ms/step - loss: 1.8312 - accuracy: 0.3823 - val_loss: 2.0169 - val_accuracy: 0.3373\n",
            "Epoch 14/50\n",
            "2000/2000 [==============================] - 4s 2ms/step - loss: 1.8337 - accuracy: 0.3815 - val_loss: 1.8664 - val_accuracy: 0.3560\n",
            "Epoch 15/50\n",
            "2000/2000 [==============================] - 4s 2ms/step - loss: 1.8345 - accuracy: 0.3841 - val_loss: 1.8464 - val_accuracy: 0.3803\n",
            "Epoch 16/50\n",
            "2000/2000 [==============================] - 4s 2ms/step - loss: 1.8289 - accuracy: 0.3821 - val_loss: 1.8746 - val_accuracy: 0.3790\n",
            "Epoch 17/50\n",
            "2000/2000 [==============================] - 4s 2ms/step - loss: 1.8142 - accuracy: 0.3879 - val_loss: 2.0081 - val_accuracy: 0.3463\n",
            "Epoch 18/50\n",
            "2000/2000 [==============================] - 4s 2ms/step - loss: 1.8177 - accuracy: 0.3896 - val_loss: 1.9842 - val_accuracy: 0.3406\n",
            "Epoch 19/50\n",
            "2000/2000 [==============================] - 4s 2ms/step - loss: 1.8221 - accuracy: 0.3859 - val_loss: 2.0008 - val_accuracy: 0.3520\n",
            "Epoch 20/50\n",
            "2000/2000 [==============================] - 4s 2ms/step - loss: 1.8212 - accuracy: 0.3895 - val_loss: 2.1255 - val_accuracy: 0.3729\n",
            "Epoch 21/50\n",
            "2000/2000 [==============================] - 4s 2ms/step - loss: 1.8121 - accuracy: 0.3892 - val_loss: 1.9553 - val_accuracy: 0.3641\n",
            "Epoch 22/50\n",
            "2000/2000 [==============================] - 4s 2ms/step - loss: 1.8050 - accuracy: 0.3921 - val_loss: 1.9243 - val_accuracy: 0.3657\n",
            "Epoch 23/50\n",
            "2000/2000 [==============================] - 4s 2ms/step - loss: 1.8087 - accuracy: 0.3903 - val_loss: 1.9351 - val_accuracy: 0.3675\n",
            "Epoch 24/50\n",
            "2000/2000 [==============================] - 4s 2ms/step - loss: 1.8001 - accuracy: 0.3941 - val_loss: 1.9227 - val_accuracy: 0.3520\n",
            "Epoch 25/50\n",
            "2000/2000 [==============================] - 4s 2ms/step - loss: 1.7978 - accuracy: 0.3973 - val_loss: 1.8731 - val_accuracy: 0.3656\n",
            "Epoch 26/50\n",
            "2000/2000 [==============================] - 4s 2ms/step - loss: 1.8071 - accuracy: 0.3943 - val_loss: 1.9076 - val_accuracy: 0.3648\n",
            "Epoch 27/50\n",
            "2000/2000 [==============================] - 4s 2ms/step - loss: 1.8003 - accuracy: 0.3947 - val_loss: 1.9620 - val_accuracy: 0.3738\n",
            "Epoch 28/50\n",
            "2000/2000 [==============================] - 4s 2ms/step - loss: 1.8041 - accuracy: 0.3962 - val_loss: 1.8583 - val_accuracy: 0.3775\n",
            "Epoch 29/50\n",
            "2000/2000 [==============================] - 4s 2ms/step - loss: 1.7990 - accuracy: 0.3961 - val_loss: 1.8990 - val_accuracy: 0.3655\n",
            "Epoch 30/50\n",
            "2000/2000 [==============================] - 4s 2ms/step - loss: 1.7998 - accuracy: 0.3977 - val_loss: 2.0013 - val_accuracy: 0.3363\n",
            "Epoch 31/50\n",
            "2000/2000 [==============================] - 4s 2ms/step - loss: 1.7960 - accuracy: 0.3979 - val_loss: 1.8426 - val_accuracy: 0.3859\n",
            "Epoch 32/50\n",
            "2000/2000 [==============================] - 4s 2ms/step - loss: 1.7907 - accuracy: 0.3948 - val_loss: 1.8415 - val_accuracy: 0.3886\n",
            "Epoch 33/50\n",
            "2000/2000 [==============================] - 4s 2ms/step - loss: 1.7988 - accuracy: 0.3979 - val_loss: 2.0256 - val_accuracy: 0.3520\n",
            "Epoch 34/50\n",
            "2000/2000 [==============================] - 4s 2ms/step - loss: 1.7847 - accuracy: 0.3974 - val_loss: 1.9743 - val_accuracy: 0.3496\n",
            "Epoch 35/50\n",
            "2000/2000 [==============================] - 4s 2ms/step - loss: 1.7872 - accuracy: 0.4021 - val_loss: 2.1384 - val_accuracy: 0.3137\n",
            "Epoch 36/50\n",
            "2000/2000 [==============================] - 4s 2ms/step - loss: 1.7875 - accuracy: 0.4031 - val_loss: 1.9447 - val_accuracy: 0.3581\n",
            "Epoch 37/50\n",
            "2000/2000 [==============================] - 4s 2ms/step - loss: 1.7861 - accuracy: 0.3988 - val_loss: 2.0498 - val_accuracy: 0.3405\n",
            "Epoch 38/50\n",
            "2000/2000 [==============================] - 4s 2ms/step - loss: 1.7820 - accuracy: 0.4000 - val_loss: 1.9740 - val_accuracy: 0.3485\n",
            "Epoch 39/50\n",
            "2000/2000 [==============================] - 4s 2ms/step - loss: 1.7830 - accuracy: 0.4033 - val_loss: 1.8482 - val_accuracy: 0.3780\n",
            "Epoch 40/50\n",
            "2000/2000 [==============================] - 4s 2ms/step - loss: 1.7833 - accuracy: 0.4038 - val_loss: 1.9830 - val_accuracy: 0.3541\n",
            "Epoch 41/50\n",
            "2000/2000 [==============================] - 4s 2ms/step - loss: 1.7774 - accuracy: 0.4002 - val_loss: 2.0040 - val_accuracy: 0.3517\n",
            "Epoch 42/50\n",
            "2000/2000 [==============================] - 4s 2ms/step - loss: 1.7949 - accuracy: 0.3982 - val_loss: 2.0857 - val_accuracy: 0.3246\n",
            "Epoch 43/50\n",
            "2000/2000 [==============================] - 4s 2ms/step - loss: 1.7730 - accuracy: 0.4032 - val_loss: 1.8670 - val_accuracy: 0.3736\n",
            "Epoch 44/50\n",
            "2000/2000 [==============================] - 4s 2ms/step - loss: 1.7840 - accuracy: 0.4018 - val_loss: 1.9607 - val_accuracy: 0.3631\n",
            "Epoch 45/50\n",
            "2000/2000 [==============================] - 4s 2ms/step - loss: 1.7713 - accuracy: 0.4033 - val_loss: 2.0230 - val_accuracy: 0.3349\n",
            "Epoch 46/50\n",
            "2000/2000 [==============================] - 4s 2ms/step - loss: 1.7808 - accuracy: 0.4027 - val_loss: 1.9693 - val_accuracy: 0.3499\n",
            "Epoch 47/50\n",
            "2000/2000 [==============================] - 4s 2ms/step - loss: 1.7805 - accuracy: 0.4033 - val_loss: 1.8428 - val_accuracy: 0.3808\n",
            "Epoch 48/50\n",
            "2000/2000 [==============================] - 4s 2ms/step - loss: 1.7701 - accuracy: 0.4047 - val_loss: 1.9425 - val_accuracy: 0.3519\n",
            "Epoch 49/50\n",
            "2000/2000 [==============================] - 4s 2ms/step - loss: 1.7857 - accuracy: 0.3999 - val_loss: 2.0834 - val_accuracy: 0.3359\n",
            "Epoch 50/50\n",
            "2000/2000 [==============================] - 4s 2ms/step - loss: 1.7651 - accuracy: 0.4060 - val_loss: 2.0410 - val_accuracy: 0.3194\n"
          ],
          "name": "stdout"
        }
      ]
    },
    {
      "cell_type": "code",
      "metadata": {
        "colab": {
          "base_uri": "https://localhost:8080/",
          "height": 513
        },
        "id": "xyR1dWYD4xEE",
        "outputId": "74afe74b-d8bf-4116-d1d5-ca562f873fab"
      },
      "source": [
        "# Plot the loss and accuracy curves for training and validation \n",
        "acc = history.history['accuracy']\n",
        "val_acc = history.history['val_accuracy']\n",
        "\n",
        "loss = history.history['loss']\n",
        "val_loss = history.history['val_loss']\n",
        "\n",
        "plt.figure(figsize=(8, 8))\n",
        "plt.subplot(2, 1, 1)\n",
        "plt.plot(acc, label='Training Accuracy')\n",
        "plt.plot(val_acc, label='Validation Accuracy')\n",
        "plt.legend(loc='lower right')\n",
        "plt.ylabel('Accuracy')\n",
        "plt.ylim([-1,1])\n",
        "plt.title('Training and Validation Accuracy')\n",
        "\n",
        "plt.subplot(2, 1, 2)\n",
        "plt.plot(loss, label='Training Loss')\n",
        "plt.plot(val_loss, label='Validation Loss')\n",
        "plt.legend(loc='upper right')\n",
        "plt.ylabel('Cross Entropy')\n",
        "plt.ylim([-1,3.0])\n",
        "plt.title('Training and Validation Loss')\n",
        "plt.xlabel('epoch')\n",
        "plt.show()"
      ],
      "execution_count": 11,
      "outputs": [
        {
          "output_type": "display_data",
          "data": {
            "image/png": "[encoded data removed]",
            "text/plain": [
              "<Figure size 576x576 with 2 Axes>"
            ]
          },
          "metadata": {
            "tags": [],
            "needs_background": "light"
          }
        }
      ]
    },
    {
      "cell_type": "code",
      "metadata": {
        "id": "jwG6kumPwqrp"
      },
      "source": [
        ""
      ],
      "execution_count": null,
      "outputs": []
    },
    {
      "cell_type": "markdown",
      "metadata": {
        "id": "fNN8XGTTjn4E"
      },
      "source": [
        "Let's build our second model."
      ]
    },
    {
      "cell_type": "code",
      "metadata": {
        "id": "ktlAB3zPjnAP",
        "colab": {
          "base_uri": "https://localhost:8080/"
        },
        "outputId": "0249d7e2-ce84-40ea-fa97-c1cfe71da00f"
      },
      "source": [
        "#Our second model without any hidden layer. \n",
        "NetB = tf.keras.models.Sequential([\n",
        "            tf.keras.layers.Flatten(input_shape=(32,32,3)), #Flatening the image\n",
        "            tf.keras.layers.Dense(300,activation='relu'),# Dense layer with 300 neurons and relu activation.\n",
        "            tf.keras.layers.Dense(10,activation=tf.nn.softmax)#Final layer with 10 output.\n",
        "    ])\n",
        "NetB.summary()"
      ],
      "execution_count": 12,
      "outputs": [
        {
          "output_type": "stream",
          "text": [
            "Model: \"sequential_1\"\n",
            "_________________________________________________________________\n",
            "Layer (type)                 Output Shape              Param #   \n",
            "=================================================================\n",
            "flatten_1 (Flatten)          (None, 3072)              0         \n",
            "_________________________________________________________________\n",
            "dense_1 (Dense)              (None, 300)               921900    \n",
            "_________________________________________________________________\n",
            "dense_2 (Dense)              (None, 10)                3010      \n",
            "=================================================================\n",
            "Total params: 924,910\n",
            "Trainable params: 924,910\n",
            "Non-trainable params: 0\n",
            "_________________________________________________________________\n"
          ],
          "name": "stdout"
        }
      ]
    },
    {
      "cell_type": "code",
      "metadata": {
        "id": "H9XK4HVbv2jh"
      },
      "source": [
        "#compiling the model. \n",
        "NetB.compile(optimizer = 'adam' , loss = \"categorical_crossentropy\", metrics=[\"accuracy\"])"
      ],
      "execution_count": 13,
      "outputs": []
    },
    {
      "cell_type": "code",
      "metadata": {
        "colab": {
          "base_uri": "https://localhost:8080/"
        },
        "id": "B9w0U9O5v5bK",
        "outputId": "ce330ab3-c377-4b2b-8534-b54709383747"
      },
      "source": [
        "#Training the model.\n",
        "history=NetB.fit(x_train,y_train, batch_size=batch_size, epochs=epochs, \n",
        "                  validation_data=(x_val,y_val),verbose=1)"
      ],
      "execution_count": 14,
      "outputs": [
        {
          "output_type": "stream",
          "text": [
            "Epoch 1/50\n",
            "2000/2000 [==============================] - 5s 3ms/step - loss: 1.8954 - accuracy: 0.3200 - val_loss: 1.7493 - val_accuracy: 0.3814\n",
            "Epoch 2/50\n",
            "2000/2000 [==============================] - 5s 2ms/step - loss: 1.7378 - accuracy: 0.3778 - val_loss: 1.6654 - val_accuracy: 0.4113\n",
            "Epoch 3/50\n",
            "2000/2000 [==============================] - 5s 2ms/step - loss: 1.6728 - accuracy: 0.4042 - val_loss: 1.6671 - val_accuracy: 0.4046\n",
            "Epoch 4/50\n",
            "2000/2000 [==============================] - 4s 2ms/step - loss: 1.6381 - accuracy: 0.4164 - val_loss: 1.6777 - val_accuracy: 0.4049\n",
            "Epoch 5/50\n",
            "2000/2000 [==============================] - 5s 2ms/step - loss: 1.6122 - accuracy: 0.4236 - val_loss: 1.6856 - val_accuracy: 0.3961\n",
            "Epoch 6/50\n",
            "2000/2000 [==============================] - 4s 2ms/step - loss: 1.5980 - accuracy: 0.4279 - val_loss: 1.6349 - val_accuracy: 0.4230\n",
            "Epoch 7/50\n",
            "2000/2000 [==============================] - 4s 2ms/step - loss: 1.5753 - accuracy: 0.4348 - val_loss: 1.5888 - val_accuracy: 0.4358\n",
            "Epoch 8/50\n",
            "2000/2000 [==============================] - 4s 2ms/step - loss: 1.5660 - accuracy: 0.4400 - val_loss: 1.6214 - val_accuracy: 0.4201\n",
            "Epoch 9/50\n",
            "2000/2000 [==============================] - 4s 2ms/step - loss: 1.5556 - accuracy: 0.4423 - val_loss: 1.5649 - val_accuracy: 0.4461\n",
            "Epoch 10/50\n",
            "2000/2000 [==============================] - 4s 2ms/step - loss: 1.5415 - accuracy: 0.4475 - val_loss: 1.5795 - val_accuracy: 0.4428\n",
            "Epoch 11/50\n",
            "2000/2000 [==============================] - 5s 3ms/step - loss: 1.5316 - accuracy: 0.4510 - val_loss: 1.5744 - val_accuracy: 0.4471\n",
            "Epoch 12/50\n",
            "2000/2000 [==============================] - 5s 3ms/step - loss: 1.5261 - accuracy: 0.4527 - val_loss: 1.5527 - val_accuracy: 0.4475\n",
            "Epoch 13/50\n",
            "2000/2000 [==============================] - 6s 3ms/step - loss: 1.5177 - accuracy: 0.4572 - val_loss: 1.5787 - val_accuracy: 0.4519\n",
            "Epoch 14/50\n",
            "2000/2000 [==============================] - 6s 3ms/step - loss: 1.5104 - accuracy: 0.4592 - val_loss: 1.5513 - val_accuracy: 0.4556\n",
            "Epoch 15/50\n",
            "2000/2000 [==============================] - 5s 3ms/step - loss: 1.5028 - accuracy: 0.4611 - val_loss: 1.6050 - val_accuracy: 0.4364\n",
            "Epoch 16/50\n",
            "2000/2000 [==============================] - 4s 2ms/step - loss: 1.5016 - accuracy: 0.4598 - val_loss: 1.6159 - val_accuracy: 0.4217\n",
            "Epoch 17/50\n",
            "2000/2000 [==============================] - 5s 2ms/step - loss: 1.4944 - accuracy: 0.4654 - val_loss: 1.5685 - val_accuracy: 0.4447\n",
            "Epoch 18/50\n",
            "2000/2000 [==============================] - 5s 2ms/step - loss: 1.4861 - accuracy: 0.4682 - val_loss: 1.5942 - val_accuracy: 0.4383\n",
            "Epoch 19/50\n",
            "2000/2000 [==============================] - 5s 2ms/step - loss: 1.4872 - accuracy: 0.4665 - val_loss: 1.5511 - val_accuracy: 0.4530\n",
            "Epoch 20/50\n",
            "2000/2000 [==============================] - 5s 3ms/step - loss: 1.4786 - accuracy: 0.4709 - val_loss: 1.5829 - val_accuracy: 0.4324\n",
            "Epoch 21/50\n",
            "2000/2000 [==============================] - 5s 3ms/step - loss: 1.4758 - accuracy: 0.4729 - val_loss: 1.5577 - val_accuracy: 0.4543\n",
            "Epoch 22/50\n",
            "2000/2000 [==============================] - 5s 2ms/step - loss: 1.4701 - accuracy: 0.4717 - val_loss: 1.5626 - val_accuracy: 0.4522\n",
            "Epoch 23/50\n",
            "2000/2000 [==============================] - 5s 2ms/step - loss: 1.4656 - accuracy: 0.4732 - val_loss: 1.5894 - val_accuracy: 0.4394\n",
            "Epoch 24/50\n",
            "2000/2000 [==============================] - 4s 2ms/step - loss: 1.4611 - accuracy: 0.4790 - val_loss: 1.5559 - val_accuracy: 0.4556\n",
            "Epoch 25/50\n",
            "2000/2000 [==============================] - 5s 3ms/step - loss: 1.4584 - accuracy: 0.4769 - val_loss: 1.5948 - val_accuracy: 0.4437\n",
            "Epoch 26/50\n",
            "2000/2000 [==============================] - 5s 2ms/step - loss: 1.4512 - accuracy: 0.4791 - val_loss: 1.5608 - val_accuracy: 0.4540\n",
            "Epoch 27/50\n",
            "2000/2000 [==============================] - 5s 2ms/step - loss: 1.4511 - accuracy: 0.4773 - val_loss: 1.5687 - val_accuracy: 0.4412\n",
            "Epoch 28/50\n",
            "2000/2000 [==============================] - 5s 2ms/step - loss: 1.4449 - accuracy: 0.4811 - val_loss: 1.5610 - val_accuracy: 0.4497\n",
            "Epoch 29/50\n",
            "2000/2000 [==============================] - 4s 2ms/step - loss: 1.4410 - accuracy: 0.4843 - val_loss: 1.5489 - val_accuracy: 0.4644\n",
            "Epoch 30/50\n",
            "2000/2000 [==============================] - 5s 2ms/step - loss: 1.4406 - accuracy: 0.4863 - val_loss: 1.5615 - val_accuracy: 0.4534\n",
            "Epoch 31/50\n",
            "2000/2000 [==============================] - 5s 2ms/step - loss: 1.4386 - accuracy: 0.4846 - val_loss: 1.5903 - val_accuracy: 0.4416\n",
            "Epoch 32/50\n",
            "2000/2000 [==============================] - 6s 3ms/step - loss: 1.4351 - accuracy: 0.4866 - val_loss: 1.5921 - val_accuracy: 0.4353\n",
            "Epoch 33/50\n",
            "2000/2000 [==============================] - 5s 3ms/step - loss: 1.4332 - accuracy: 0.4858 - val_loss: 1.5918 - val_accuracy: 0.4485\n",
            "Epoch 34/50\n",
            "2000/2000 [==============================] - 5s 2ms/step - loss: 1.4253 - accuracy: 0.4914 - val_loss: 1.5944 - val_accuracy: 0.4501\n",
            "Epoch 35/50\n",
            "2000/2000 [==============================] - 6s 3ms/step - loss: 1.4281 - accuracy: 0.4874 - val_loss: 1.5584 - val_accuracy: 0.4569\n",
            "Epoch 36/50\n",
            "2000/2000 [==============================] - 5s 2ms/step - loss: 1.4198 - accuracy: 0.4919 - val_loss: 1.5718 - val_accuracy: 0.4611\n",
            "Epoch 37/50\n",
            "2000/2000 [==============================] - 5s 2ms/step - loss: 1.4216 - accuracy: 0.4914 - val_loss: 1.5544 - val_accuracy: 0.4638\n",
            "Epoch 38/50\n",
            "2000/2000 [==============================] - 5s 3ms/step - loss: 1.4148 - accuracy: 0.4961 - val_loss: 1.6097 - val_accuracy: 0.4452\n",
            "Epoch 39/50\n",
            "2000/2000 [==============================] - 5s 2ms/step - loss: 1.4131 - accuracy: 0.4956 - val_loss: 1.5963 - val_accuracy: 0.4377\n",
            "Epoch 40/50\n",
            "2000/2000 [==============================] - 4s 2ms/step - loss: 1.4112 - accuracy: 0.4951 - val_loss: 1.5805 - val_accuracy: 0.4547\n",
            "Epoch 41/50\n",
            "2000/2000 [==============================] - 5s 2ms/step - loss: 1.4056 - accuracy: 0.4949 - val_loss: 1.5316 - val_accuracy: 0.4663\n",
            "Epoch 42/50\n",
            "2000/2000 [==============================] - 5s 2ms/step - loss: 1.4074 - accuracy: 0.4984 - val_loss: 1.5788 - val_accuracy: 0.4464\n",
            "Epoch 43/50\n",
            "2000/2000 [==============================] - 5s 2ms/step - loss: 1.4053 - accuracy: 0.4966 - val_loss: 1.5948 - val_accuracy: 0.4553\n",
            "Epoch 44/50\n",
            "2000/2000 [==============================] - 4s 2ms/step - loss: 1.4021 - accuracy: 0.4990 - val_loss: 1.5615 - val_accuracy: 0.4526\n",
            "Epoch 45/50\n",
            "2000/2000 [==============================] - 5s 3ms/step - loss: 1.4052 - accuracy: 0.4986 - val_loss: 1.5320 - val_accuracy: 0.4720\n",
            "Epoch 46/50\n",
            "2000/2000 [==============================] - 5s 2ms/step - loss: 1.3974 - accuracy: 0.4969 - val_loss: 1.5798 - val_accuracy: 0.4536\n",
            "Epoch 47/50\n",
            "2000/2000 [==============================] - 5s 2ms/step - loss: 1.3962 - accuracy: 0.5007 - val_loss: 1.6218 - val_accuracy: 0.4340\n",
            "Epoch 48/50\n",
            "2000/2000 [==============================] - 5s 2ms/step - loss: 1.3970 - accuracy: 0.4984 - val_loss: 1.5623 - val_accuracy: 0.4547\n",
            "Epoch 49/50\n",
            "2000/2000 [==============================] - 5s 2ms/step - loss: 1.3874 - accuracy: 0.5052 - val_loss: 1.5713 - val_accuracy: 0.4590\n",
            "Epoch 50/50\n",
            "2000/2000 [==============================] - 5s 2ms/step - loss: 1.3894 - accuracy: 0.5018 - val_loss: 1.5589 - val_accuracy: 0.4614\n"
          ],
          "name": "stdout"
        }
      ]
    },
    {
      "cell_type": "code",
      "metadata": {
        "colab": {
          "base_uri": "https://localhost:8080/",
          "height": 513
        },
        "id": "Hx3BVcdLwt5O",
        "outputId": "fef685d3-87f3-4e7c-9815-b04f6ed7db9a"
      },
      "source": [
        "# Plot the loss and accuracy curves for training and validation \n",
        "acc = history.history['accuracy']\n",
        "val_acc = history.history['val_accuracy']\n",
        "\n",
        "loss = history.history['loss']\n",
        "val_loss = history.history['val_loss']\n",
        "\n",
        "plt.figure(figsize=(8, 8))\n",
        "plt.subplot(2, 1, 1)\n",
        "plt.plot(acc, label='Training Accuracy')\n",
        "plt.plot(val_acc, label='Validation Accuracy')\n",
        "plt.legend(loc='lower right')\n",
        "plt.ylabel('Accuracy')\n",
        "plt.ylim([-1,1])\n",
        "plt.title('Training and Validation Accuracy')\n",
        "\n",
        "plt.subplot(2, 1, 2)\n",
        "plt.plot(loss, label='Training Loss')\n",
        "plt.plot(val_loss, label='Validation Loss')\n",
        "plt.legend(loc='upper right')\n",
        "plt.ylabel('Cross Entropy')\n",
        "plt.ylim([-1,3.0])\n",
        "plt.title('Training and Validation Loss')\n",
        "plt.xlabel('epoch')\n",
        "plt.show()"
      ],
      "execution_count": 15,
      "outputs": [
        {
          "output_type": "display_data",
          "data": {
            "image/png": "[encoded data removed]",
            "text/plain": [
              "<Figure size 576x576 with 2 Axes>"
            ]
          },
          "metadata": {
            "tags": [],
            "needs_background": "light"
          }
        }
      ]
    },
    {
      "cell_type": "code",
      "metadata": {
        "colab": {
          "base_uri": "https://localhost:8080/"
        },
        "id": "YhCCIou5xMe5",
        "outputId": "be1a5a84-002b-47d7-f0cc-92a1b6cecb7d"
      },
      "source": [
        "# Third model with convolution layer.\n",
        "NetC = tf.keras.models.Sequential([\n",
        "            tf.keras.layers.Conv2D(25,(3,3),activation='relu',input_shape=(32,32,3)),\n",
        "            tf.keras.layers.MaxPooling2D(2,2),\n",
        "            tf.keras.layers.Flatten(),\n",
        "            tf.keras.layers.Dense(10,activation=tf.nn.softmax)\n",
        "    ])\n",
        "NetC.summary()"
      ],
      "execution_count": 16,
      "outputs": [
        {
          "output_type": "stream",
          "text": [
            "Model: \"sequential_2\"\n",
            "_________________________________________________________________\n",
            "Layer (type)                 Output Shape              Param #   \n",
            "=================================================================\n",
            "conv2d (Conv2D)              (None, 30, 30, 25)        700       \n",
            "_________________________________________________________________\n",
            "max_pooling2d (MaxPooling2D) (None, 15, 15, 25)        0         \n",
            "_________________________________________________________________\n",
            "flatten_2 (Flatten)          (None, 5625)              0         \n",
            "_________________________________________________________________\n",
            "dense_3 (Dense)              (None, 10)                56260     \n",
            "=================================================================\n",
            "Total params: 56,960\n",
            "Trainable params: 56,960\n",
            "Non-trainable params: 0\n",
            "_________________________________________________________________\n"
          ],
          "name": "stdout"
        }
      ]
    },
    {
      "cell_type": "code",
      "metadata": {
        "id": "tMiMDZ8hzZJM"
      },
      "source": [
        "#compiling the model. \n",
        "NetC.compile(optimizer = 'adam' , loss = \"categorical_crossentropy\", metrics=[\"accuracy\"])"
      ],
      "execution_count": 17,
      "outputs": []
    },
    {
      "cell_type": "code",
      "metadata": {
        "colab": {
          "base_uri": "https://localhost:8080/"
        },
        "id": "MG5nZBjPzelM",
        "outputId": "773e3010-c2ae-4fd8-b3f1-daab7e9b90a3"
      },
      "source": [
        "#Traing the model.\n",
        "history=NetC.fit(x_train,y_train, batch_size=batch_size, epochs=epochs, \n",
        "                  validation_data=(x_val,y_val),verbose=1)"
      ],
      "execution_count": 18,
      "outputs": [
        {
          "output_type": "stream",
          "text": [
            "Epoch 1/50\n",
            "2000/2000 [==============================] - 33s 3ms/step - loss: 1.4886 - accuracy: 0.4789 - val_loss: 1.3100 - val_accuracy: 0.5439\n",
            "Epoch 2/50\n",
            "2000/2000 [==============================] - 5s 3ms/step - loss: 1.2286 - accuracy: 0.5711 - val_loss: 1.2287 - val_accuracy: 0.5741\n",
            "Epoch 3/50\n",
            "2000/2000 [==============================] - 6s 3ms/step - loss: 1.1340 - accuracy: 0.6058 - val_loss: 1.1972 - val_accuracy: 0.5839\n",
            "Epoch 4/50\n",
            "2000/2000 [==============================] - 5s 3ms/step - loss: 1.0627 - accuracy: 0.6337 - val_loss: 1.1858 - val_accuracy: 0.5963\n",
            "Epoch 5/50\n",
            "2000/2000 [==============================] - 6s 3ms/step - loss: 1.0119 - accuracy: 0.6496 - val_loss: 1.1278 - val_accuracy: 0.6132\n",
            "Epoch 6/50\n",
            "2000/2000 [==============================] - 6s 3ms/step - loss: 0.9665 - accuracy: 0.6673 - val_loss: 1.1255 - val_accuracy: 0.6109\n",
            "Epoch 7/50\n",
            "2000/2000 [==============================] - 5s 3ms/step - loss: 0.9366 - accuracy: 0.6766 - val_loss: 1.1350 - val_accuracy: 0.6149\n",
            "Epoch 8/50\n",
            "2000/2000 [==============================] - 6s 3ms/step - loss: 0.9087 - accuracy: 0.6843 - val_loss: 1.1393 - val_accuracy: 0.6243\n",
            "Epoch 9/50\n",
            "2000/2000 [==============================] - 6s 3ms/step - loss: 0.8851 - accuracy: 0.6943 - val_loss: 1.1524 - val_accuracy: 0.6084\n",
            "Epoch 10/50\n",
            "2000/2000 [==============================] - 6s 3ms/step - loss: 0.8641 - accuracy: 0.7037 - val_loss: 1.1136 - val_accuracy: 0.6301\n",
            "Epoch 11/50\n",
            "2000/2000 [==============================] - 5s 3ms/step - loss: 0.8417 - accuracy: 0.7116 - val_loss: 1.1394 - val_accuracy: 0.6181\n",
            "Epoch 12/50\n",
            "2000/2000 [==============================] - 6s 3ms/step - loss: 0.8228 - accuracy: 0.7154 - val_loss: 1.1142 - val_accuracy: 0.6324\n",
            "Epoch 13/50\n",
            "2000/2000 [==============================] - 5s 3ms/step - loss: 0.8118 - accuracy: 0.7196 - val_loss: 1.1639 - val_accuracy: 0.6105\n",
            "Epoch 14/50\n",
            "2000/2000 [==============================] - 5s 3ms/step - loss: 0.7941 - accuracy: 0.7261 - val_loss: 1.1423 - val_accuracy: 0.6188\n",
            "Epoch 15/50\n",
            "2000/2000 [==============================] - 5s 3ms/step - loss: 0.7762 - accuracy: 0.7301 - val_loss: 1.1802 - val_accuracy: 0.6162\n",
            "Epoch 16/50\n",
            "2000/2000 [==============================] - 5s 3ms/step - loss: 0.7641 - accuracy: 0.7337 - val_loss: 1.2048 - val_accuracy: 0.6125\n",
            "Epoch 17/50\n",
            "2000/2000 [==============================] - 5s 3ms/step - loss: 0.7497 - accuracy: 0.7391 - val_loss: 1.1787 - val_accuracy: 0.6270\n",
            "Epoch 18/50\n",
            "2000/2000 [==============================] - 6s 3ms/step - loss: 0.7374 - accuracy: 0.7439 - val_loss: 1.2347 - val_accuracy: 0.6078\n",
            "Epoch 19/50\n",
            "2000/2000 [==============================] - 5s 3ms/step - loss: 0.7218 - accuracy: 0.7510 - val_loss: 1.1805 - val_accuracy: 0.6263\n",
            "Epoch 20/50\n",
            "2000/2000 [==============================] - 6s 3ms/step - loss: 0.7128 - accuracy: 0.7522 - val_loss: 1.1996 - val_accuracy: 0.6213\n",
            "Epoch 21/50\n",
            "2000/2000 [==============================] - 6s 3ms/step - loss: 0.7035 - accuracy: 0.7561 - val_loss: 1.2165 - val_accuracy: 0.6175\n",
            "Epoch 22/50\n",
            "2000/2000 [==============================] - 6s 3ms/step - loss: 0.6898 - accuracy: 0.7596 - val_loss: 1.2390 - val_accuracy: 0.6185\n",
            "Epoch 23/50\n",
            "2000/2000 [==============================] - 5s 3ms/step - loss: 0.6805 - accuracy: 0.7623 - val_loss: 1.2646 - val_accuracy: 0.6106\n",
            "Epoch 24/50\n",
            "2000/2000 [==============================] - 6s 3ms/step - loss: 0.6717 - accuracy: 0.7640 - val_loss: 1.2346 - val_accuracy: 0.6152\n",
            "Epoch 25/50\n",
            "2000/2000 [==============================] - 6s 3ms/step - loss: 0.6587 - accuracy: 0.7710 - val_loss: 1.2993 - val_accuracy: 0.6068\n",
            "Epoch 26/50\n",
            "2000/2000 [==============================] - 5s 3ms/step - loss: 0.6506 - accuracy: 0.7736 - val_loss: 1.2585 - val_accuracy: 0.6163\n",
            "Epoch 27/50\n",
            "2000/2000 [==============================] - 5s 3ms/step - loss: 0.6434 - accuracy: 0.7743 - val_loss: 1.3010 - val_accuracy: 0.6107\n",
            "Epoch 28/50\n",
            "2000/2000 [==============================] - 5s 3ms/step - loss: 0.6323 - accuracy: 0.7792 - val_loss: 1.3415 - val_accuracy: 0.6031\n",
            "Epoch 29/50\n",
            "2000/2000 [==============================] - 6s 3ms/step - loss: 0.6259 - accuracy: 0.7826 - val_loss: 1.3749 - val_accuracy: 0.5986\n",
            "Epoch 30/50\n",
            "2000/2000 [==============================] - 6s 3ms/step - loss: 0.6159 - accuracy: 0.7839 - val_loss: 1.3461 - val_accuracy: 0.6060\n",
            "Epoch 31/50\n",
            "2000/2000 [==============================] - 5s 3ms/step - loss: 0.6130 - accuracy: 0.7843 - val_loss: 1.3392 - val_accuracy: 0.6094\n",
            "Epoch 32/50\n",
            "2000/2000 [==============================] - 5s 3ms/step - loss: 0.6031 - accuracy: 0.7889 - val_loss: 1.3888 - val_accuracy: 0.5956\n",
            "Epoch 33/50\n",
            "2000/2000 [==============================] - 6s 3ms/step - loss: 0.5939 - accuracy: 0.7929 - val_loss: 1.3996 - val_accuracy: 0.6011\n",
            "Epoch 34/50\n",
            "2000/2000 [==============================] - 5s 3ms/step - loss: 0.5939 - accuracy: 0.7896 - val_loss: 1.4144 - val_accuracy: 0.5992\n",
            "Epoch 35/50\n",
            "2000/2000 [==============================] - 5s 3ms/step - loss: 0.5836 - accuracy: 0.7937 - val_loss: 1.4179 - val_accuracy: 0.5994\n",
            "Epoch 36/50\n",
            "2000/2000 [==============================] - 5s 3ms/step - loss: 0.5738 - accuracy: 0.7990 - val_loss: 1.4209 - val_accuracy: 0.6089\n",
            "Epoch 37/50\n",
            "2000/2000 [==============================] - 5s 3ms/step - loss: 0.5730 - accuracy: 0.8006 - val_loss: 1.4846 - val_accuracy: 0.5963\n",
            "Epoch 38/50\n",
            "2000/2000 [==============================] - 6s 3ms/step - loss: 0.5671 - accuracy: 0.8023 - val_loss: 1.4581 - val_accuracy: 0.5992\n",
            "Epoch 39/50\n",
            "2000/2000 [==============================] - 6s 3ms/step - loss: 0.5576 - accuracy: 0.8028 - val_loss: 1.4660 - val_accuracy: 0.5967\n",
            "Epoch 40/50\n",
            "2000/2000 [==============================] - 5s 3ms/step - loss: 0.5531 - accuracy: 0.8052 - val_loss: 1.4523 - val_accuracy: 0.6032\n",
            "Epoch 41/50\n",
            "2000/2000 [==============================] - 5s 3ms/step - loss: 0.5450 - accuracy: 0.8074 - val_loss: 1.5010 - val_accuracy: 0.5950\n",
            "Epoch 42/50\n",
            "2000/2000 [==============================] - 5s 3ms/step - loss: 0.5413 - accuracy: 0.8112 - val_loss: 1.4996 - val_accuracy: 0.6033\n",
            "Epoch 43/50\n",
            "2000/2000 [==============================] - 5s 3ms/step - loss: 0.5379 - accuracy: 0.8110 - val_loss: 1.5180 - val_accuracy: 0.5995\n",
            "Epoch 44/50\n",
            "2000/2000 [==============================] - 5s 3ms/step - loss: 0.5280 - accuracy: 0.8135 - val_loss: 1.5459 - val_accuracy: 0.5992\n",
            "Epoch 45/50\n",
            "2000/2000 [==============================] - 5s 3ms/step - loss: 0.5213 - accuracy: 0.8164 - val_loss: 1.5349 - val_accuracy: 0.5999\n",
            "Epoch 46/50\n",
            "2000/2000 [==============================] - 5s 3ms/step - loss: 0.5232 - accuracy: 0.8140 - val_loss: 1.5538 - val_accuracy: 0.6004\n",
            "Epoch 47/50\n",
            "2000/2000 [==============================] - 6s 3ms/step - loss: 0.5116 - accuracy: 0.8190 - val_loss: 1.6309 - val_accuracy: 0.5867\n",
            "Epoch 48/50\n",
            "2000/2000 [==============================] - 5s 3ms/step - loss: 0.5114 - accuracy: 0.8201 - val_loss: 1.5933 - val_accuracy: 0.6000\n",
            "Epoch 49/50\n",
            "2000/2000 [==============================] - 5s 3ms/step - loss: 0.5079 - accuracy: 0.8217 - val_loss: 1.6158 - val_accuracy: 0.5903\n",
            "Epoch 50/50\n",
            "2000/2000 [==============================] - 5s 3ms/step - loss: 0.5006 - accuracy: 0.8234 - val_loss: 1.6231 - val_accuracy: 0.5947\n"
          ],
          "name": "stdout"
        }
      ]
    },
    {
      "cell_type": "code",
      "metadata": {
        "colab": {
          "base_uri": "https://localhost:8080/",
          "height": 499
        },
        "id": "yIjFvCtq2Z5e",
        "outputId": "c4a0762c-2829-4453-d3d3-a1358d559e40"
      },
      "source": [
        "# Plot the loss and accuracy curves for training and validation \n",
        "acc = history.history['accuracy']\n",
        "val_acc = history.history['val_accuracy']\n",
        "\n",
        "loss = history.history['loss']\n",
        "val_loss = history.history['val_loss']\n",
        "\n",
        "plt.figure(figsize=(8, 8))\n",
        "plt.subplot(2, 1, 2)\n",
        "plt.plot(acc, label='Training Accuracy')\n",
        "plt.plot(val_acc, label='Validation Accuracy')\n",
        "plt.legend(loc='lower right')\n",
        "plt.ylabel('Accuracy')\n",
        "plt.ylim([-1,1])\n",
        "plt.title('Training and Validation Accuracy')\n",
        "\n",
        "plt.subplot(2, 1, 1)\n",
        "plt.plot(loss, label='Training Loss')\n",
        "plt.plot(val_loss, label='Validation Loss')\n",
        "plt.legend(loc='upper right')\n",
        "plt.ylabel('Cross Entropy')\n",
        "plt.ylim([-1,3.0])\n",
        "plt.title('Training and Validation Loss')\n",
        "plt.xlabel('epoch')\n",
        "plt.show()"
      ],
      "execution_count": 19,
      "outputs": [
        {
          "output_type": "display_data",
          "data": {
            "image/png": "[encoded data removed]",
            "text/plain": [
              "<Figure size 576x576 with 2 Axes>"
            ]
          },
          "metadata": {
            "tags": [],
            "needs_background": "light"
          }
        }
      ]
    }
  ]
}